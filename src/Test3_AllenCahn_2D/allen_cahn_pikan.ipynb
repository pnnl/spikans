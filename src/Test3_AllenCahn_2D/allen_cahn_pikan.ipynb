{
 "cells": [
  {
   "cell_type": "code",
   "execution_count": 1,
   "metadata": {},
   "outputs": [
    {
     "name": "stdout",
     "output_type": "stream",
     "text": [
      "(50562, 2)\n",
      "(640, 2)\n"
     ]
    }
   ],
   "source": [
    "import jax.numpy as jnp\n",
    "import jax\n",
    "from jax import vmap, jit, grad\n",
    "import optax\n",
    "from functools import partial\n",
    "import numpy as np\n",
    "from tqdm import trange\n",
    "from jax import random\n",
    "import matplotlib.pyplot as plt\n",
    "import sys\n",
    "sys.path.insert(0, '../')\n",
    "\n",
    "from KANWrapper import SF_KAN  # Base KAN implementation\n",
    "\n",
    "def create_domain_points(X_range, T_range, nx, nt):\n",
    "    \"\"\"Create domain points for 1D spatial + time domain\"\"\"\n",
    "    x = np.linspace(X_range[0], X_range[1], nx)\n",
    "    t = np.linspace(T_range[0], T_range[1], nt)\n",
    "    \n",
    "    # Interior points\n",
    "    X, T = np.meshgrid(x[1:-1], t[1:], indexing='ij')  # Exclude boundaries\n",
    "    interior_points = np.column_stack((X.ravel(), T.ravel()))\n",
    "    \n",
    "    # Boundary points (x = -1 and x = 1, t ≥ 0)\n",
    "    x_boundary = np.vstack([\n",
    "        np.column_stack((np.full(nt, X_range[0]), t)),  # Left boundary\n",
    "        np.column_stack((np.full(nt, X_range[1]), t))   # Right boundary\n",
    "    ])\n",
    "    \n",
    "    # Initial condition (t = 0)\n",
    "    ic_points = np.column_stack((x, np.zeros_like(x)))\n",
    "    \n",
    "    # Combine all boundary and initial condition points\n",
    "    boundary_points = np.vstack([x_boundary, ic_points])\n",
    "    \n",
    "    return interior_points, boundary_points\n",
    "\n",
    "\n",
    "X_range = (-1.0, 1.0)\n",
    "T_range = (0.0, 1.0)\n",
    "nx, nt = 320, 160\n",
    "interior_points, boundary_points = create_domain_points(X_range, T_range, nx, nt)\n",
    "\n",
    "print(interior_points.shape)\n",
    "print(boundary_points.shape)"
   ]
  },
  {
   "cell_type": "code",
   "execution_count": 2,
   "metadata": {},
   "outputs": [
    {
     "data": {
      "image/png": "[encoded data removed]",
      "text/plain": [
       "<Figure size 800x400 with 1 Axes>"
      ]
     },
     "metadata": {},
     "output_type": "display_data"
    }
   ],
   "source": [
    "def plot_domain_setup(interior_points, boundary_points):\n",
    "    plt.figure(figsize=(8, 4))\n",
    "    \n",
    "    # Separate boundary points into initial condition and boundaries\n",
    "    t_zero_mask = boundary_points[:, 1] == 0\n",
    "    x_left_mask = boundary_points[:, 0] == -1\n",
    "    x_right_mask = boundary_points[:, 0] == 1\n",
    "    \n",
    "    # Plot interior points\n",
    "    plt.scatter(interior_points[:, 0], interior_points[:, 1], \n",
    "               s=1, alpha=0.5, label='Interior')\n",
    "    \n",
    "    # Plot initial and boundary points\n",
    "    plt.scatter(boundary_points[t_zero_mask, 0], boundary_points[t_zero_mask, 1], \n",
    "               s=5, c='r', label='Initial condition')\n",
    "    plt.scatter(boundary_points[x_left_mask, 0], boundary_points[x_left_mask, 1], \n",
    "               s=5, c='g', label='Left boundary')\n",
    "    plt.scatter(boundary_points[x_right_mask, 0], boundary_points[x_right_mask, 1], \n",
    "               s=5, c='b', label='Right boundary')\n",
    "    \n",
    "    plt.xlabel('x')\n",
    "    plt.ylabel('t')\n",
    "    plt.legend(bbox_to_anchor=(1.05, 1), loc='upper left')\n",
    "    plt.axis('equal')\n",
    "    plt.tight_layout()\n",
    "    plt.show()\n",
    "    \n",
    "# Plot the domain setup\n",
    "plot_domain_setup(interior_points, boundary_points)\n"
   ]
  },
  {
   "cell_type": "code",
   "execution_count": 3,
   "metadata": {},
   "outputs": [],
   "source": [
    "\n",
    "class AllenCahn_KAN(SF_KAN):\n",
    "    def __init__(self, *args, D=0.01, **kwargs):\n",
    "        super().__init__(*args, **kwargs)\n",
    "        self.D = D  # Diffusion coefficient\n",
    "    \n",
    "    @partial(jit, static_argnums=(0,))\n",
    "    def initial_condition(self, x):\n",
    "        \"\"\"Initial condition u(x,0) = x^2 cos(π x)\"\"\"\n",
    "        return x**2 * jnp.cos(jnp.pi * x)\n",
    "    \n",
    "    @partial(jit, static_argnums=(0,))\n",
    "    def boundary_condition(self, t):\n",
    "        \"\"\"Boundary condition u(±1,t) = -1\"\"\"\n",
    "        return -1.0\n",
    "\n",
    "    @partial(jit, static_argnums=(0,))\n",
    "    def loss_fn(self, params, state, xy_domain, xy_boundary):\n",
    "        variables = {'params': params, 'state': state}\n",
    "        \n",
    "        # Get predictions for domain and boundary points\n",
    "        pred_domain, spl_regs = self.forward_pass(variables, xy_domain)\n",
    "        pred_boundary, _ = self.forward_pass(variables, xy_boundary)\n",
    "\n",
    "        # Physics loss (Allen-Cahn equation)\n",
    "        def ac_residual(point):\n",
    "            x, t = point\n",
    "\n",
    "            def u(p):\n",
    "                return self.forward_pass(variables, p.reshape(1, -1))[0][0, 0]\n",
    "\n",
    "            # Compute derivatives\n",
    "            u_t = grad(lambda t_var: u(jnp.array([x, t_var])))(t)\n",
    "            u_xx = grad(lambda x_var: grad(lambda x_var: u(jnp.array([x_var, t])))(x_var))(x)\n",
    "            \n",
    "            u_val = u(jnp.array([x, t]))\n",
    "            \n",
    "            # Residual of the Allen-Cahn equation\n",
    "            # du/dt - D d²u/dx² + 5(u³ - u) = 0\n",
    "            residual = u_t - self.D * u_xx + 5.0 * (u_val**3 - u_val)\n",
    "            return residual\n",
    "\n",
    "        # Vectorize residual computation over domain points\n",
    "        physics_residuals = vmap(ac_residual)(xy_domain)\n",
    "        physics_loss = jnp.mean(physics_residuals**2)\n",
    "\n",
    "        # Boundary and initial condition losses\n",
    "        def boundary_loss_fn(point):\n",
    "            x, t = point\n",
    "            pred = self.forward_pass(variables, point.reshape(1, -1))[0][0, 0]\n",
    "            target = jnp.where(t == 0, \n",
    "                             self.initial_condition(x),  # Initial condition at t=0\n",
    "                             self.boundary_condition(t)) # Boundary condition at x=±1\n",
    "            return pred - target\n",
    "\n",
    "        boundary_residuals = vmap(boundary_loss_fn)(xy_boundary)\n",
    "        boundary_loss = jnp.mean(boundary_residuals**2)\n",
    "\n",
    "        # Regularization loss from spline regularization terms\n",
    "        flattened_spl_reg = [jnp.ravel(arr) for arr in spl_regs]\n",
    "        reg_loss = jnp.sum(jnp.concatenate(flattened_spl_reg))\n",
    "\n",
    "        # Total loss\n",
    "        total_loss = physics_loss + boundary_loss # + 0.1 * reg_loss\n",
    "        return total_loss\n",
    "\n"
   ]
  },
  {
   "cell_type": "code",
   "execution_count": null,
   "metadata": {},
   "outputs": [],
   "source": [
    "# Model parameters\n",
    "layer_dims = [2, 9, 9, 1]\n",
    "init_lr = 1e-3\n",
    "\n",
    "# Allen-Cahn equation parameters\n",
    "D = 1e-4\n",
    "\n",
    "# Initialize model\n",
    "model = AllenCahn_KAN(\n",
    "    layer_dims=layer_dims,\n",
    "    init_lr=init_lr,\n",
    "    k=5,\n",
    "    D=D\n",
    ")\n",
    "\n",
    "# Train the model\n",
    "num_epochs = 100000\n",
    "final_variables, loss_history = model.train(\n",
    "    num_epochs=num_epochs,\n",
    "    xy_domain=interior_points,\n",
    "    xy_boundary=boundary_points\n",
    ")"
   ]
  },
  {
   "cell_type": "code",
   "execution_count": null,
   "metadata": {},
   "outputs": [],
   "source": [
    "# Plot loss history\n",
    "def plot_loss_history(loss_history):\n",
    "    plt.figure(figsize=(6, 5))\n",
    "    epochs = range(0, len(loss_history), 100)\n",
    "    plt.plot(epochs, loss_history[::100])\n",
    "    plt.xlabel('Epoch')\n",
    "    plt.ylabel('Loss')\n",
    "    plt.yscale('log')  # Use log scale for y-axis\n",
    "    plt.grid(True)\n",
    "    plt.show()\n",
    "\n",
    "plot_loss_history(loss_history)\n"
   ]
  },
  {
   "cell_type": "code",
   "execution_count": null,
   "metadata": {},
   "outputs": [],
   "source": [
    "\n",
    "# Generate solution\n",
    "nx_plot, nt_plot = nx, nt\n",
    "x_plot = np.linspace(-1, 1, nx_plot)\n",
    "t_plot = np.linspace(0, 1, nt_plot)\n",
    "X_mesh, T_mesh = np.meshgrid(x_plot, t_plot)\n",
    "xt_plot = np.column_stack((X_mesh.ravel(), T_mesh.ravel()))\n",
    "u_pred, _ = model.forward_pass({'params': final_variables['params'], 'state': final_variables['state']}, jnp.array(xt_plot))\n",
    "u_pred = u_pred.reshape(nt_plot, nx_plot)\n",
    "\n",
    "# Plot the predicted solution\n",
    "plt.figure(figsize=(5, 8))\n",
    "plt.contourf(T_mesh, X_mesh, u_pred, levels=50, cmap='hsv')\n",
    "plt.colorbar(label='u(x,t)')\n",
    "plt.xlabel('t')\n",
    "plt.ylabel('x')\n",
    "plt.title('u_pred')\n",
    "plt.tight_layout()\n",
    "plt.show()\n"
   ]
  },
  {
   "cell_type": "code",
   "execution_count": 7,
   "metadata": {},
   "outputs": [],
   "source": [
    "# Create dictionary with all field data\n",
    "output_data = {\n",
    "    'x': x_plot,\n",
    "    't': t_plot,\n",
    "    'u': u_pred,\n",
    "    'D': 1e-4\n",
    "}\n",
    "\n",
    "# Save data\n",
    "np.save(f'./data/allen_cahn_pikan_nx{nx}_nt{nt}_{layer_dims}_epochs{num_epochs}.npy', output_data)\n"
   ]
  },
  {
   "cell_type": "code",
   "execution_count": 11,
   "metadata": {},
   "outputs": [
    {
     "name": "stdout",
     "output_type": "stream",
     "text": [
      "Number of trainable parameters: 331\n"
     ]
    }
   ],
   "source": [
    "def count_trainable_params(params):\n",
    "    flat_params, _ = jax.tree_util.tree_flatten(params)\n",
    "    return sum(p.size for p in flat_params)\n",
    "\n",
    "num_params = count_trainable_params(final_variables['params'])\n",
    "print(f\"Number of trainable parameters: {num_params}\")"
   ]
  }
 ],
 "metadata": {
  "kernelspec": {
   "display_name": "spikan",
   "language": "python",
   "name": "spikan"
  },
  "language_info": {
   "codemirror_mode": {
    "name": "ipython",
    "version": 3
   },
   "file_extension": ".py",
   "mimetype": "text/x-python",
   "name": "python",
   "nbconvert_exporter": "python",
   "pygments_lexer": "ipython3",
   "version": "3.11.9"
  }
 },
 "nbformat": 4,
 "nbformat_minor": 4
}
